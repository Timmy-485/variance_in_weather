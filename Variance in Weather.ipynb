{
 "cells": [
  {
   "cell_type": "code",
   "execution_count": null,
   "id": "d90ce2ea",
   "metadata": {},
   "outputs": [],
   "source": [
    "import codecademylib3_seaborn\n",
    "import pandas as pd\n",
    "import numpy as np\n",
    "from weather_data import london_data\n",
    "\n",
    "print(london_data.head())\n",
    "print(london_data.iloc[100:200])\n",
    "\n",
    "print(len(london_data))\n",
    "\n",
    "temp = london_data[\"TemperatureC\"]\n",
    "average_temp = np.mean(temp)\n",
    "temperature_var = np.var(temp)\n",
    "temperature_standard_deviation = np.std(temp)\n",
    "print(temperature_var)\n",
    "print(temperature_standard_deviation)\n",
    "\n",
    "\n",
    "print(london_data.head())\n",
    "\n",
    "june = london_data.loc[london_data[\"month\"] == 6][\"TemperatureC\"]\n",
    "july = london_data.loc[london_data[\"month\"] == 7][\"TemperatureC\"]\n",
    "\n",
    "june_mean = np.mean(june)\n",
    "july_mean = np.mean(july)\n",
    "print(june_mean, july_mean)\n",
    "\n",
    "june_std = np.std(june)\n",
    "july_std = np.std(july)\n",
    "print(june_std, july_std)\n",
    "\n",
    "for i in range(1, 13):\n",
    "  month = london_data.loc[london_data[\"month\"] == i][\"TemperatureC\"]\n",
    "  print(\"The mean temperature in month \"+str(i) +\" is \"+ str(np.mean(month)))\n",
    "  print(\"The standard deviation of temperature in month \"+str(i) +\" is \"+ str(np.std(month)) +\"\\n\")\n",
    "\n",
    "\n",
    "for i in range(1, 13):\n",
    "  month = london_data.loc[london_data[\"month\"] == i][\"Humidity\"]\n",
    "  print(\"The mean humidity in month \"+str(i) +\" is \"+ str(np.mean(month)))\n",
    "  print(\"The standard deviation of humidity in month \"+str(i) +\" is \"+ str(np.std(month)) +\"\\n\")"
   ]
  }
 ],
 "metadata": {
  "kernelspec": {
   "display_name": "Python 3",
   "language": "python",
   "name": "python3"
  },
  "language_info": {
   "codemirror_mode": {
    "name": "ipython",
    "version": 3
   },
   "file_extension": ".py",
   "mimetype": "text/x-python",
   "name": "python",
   "nbconvert_exporter": "python",
   "pygments_lexer": "ipython3",
   "version": "3.8.8"
  }
 },
 "nbformat": 4,
 "nbformat_minor": 5
}
